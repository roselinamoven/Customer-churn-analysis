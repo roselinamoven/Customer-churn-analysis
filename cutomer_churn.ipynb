{
  "nbformat": 4,
  "nbformat_minor": 0,
  "metadata": {
    "colab": {
      "provenance": [],
      "authorship_tag": "ABX9TyOTox+poQ4yia9YYnZS+3W0",
      "include_colab_link": true
    },
    "kernelspec": {
      "name": "python3",
      "display_name": "Python 3"
    },
    "language_info": {
      "name": "python"
    }
  },
  "cells": [
    {
      "cell_type": "markdown",
      "metadata": {
        "id": "view-in-github",
        "colab_type": "text"
      },
      "source": [
        "<a href=\"https://colab.research.google.com/github/roselinamoven/Customer-churn-analysis/blob/main/cutomer_churn.ipynb\" target=\"_parent\"><img src=\"https://colab.research.google.com/assets/colab-badge.svg\" alt=\"Open In Colab\"/></a>"
      ]
    },
    {
      "cell_type": "code",
      "execution_count": null,
      "metadata": {
        "id": "UTuuPKzKeTl8"
      },
      "outputs": [],
      "source": [
        "import pandas as pd\n",
        "from scipy import stats\n",
        "from scipy.stats import trim_mean\n",
        "import numpy as np\n",
        "charges_data_path = \"/content/charges_data.csv\"\n",
        "personal_data_path = \"/content/personal_data.csv\"\n",
        "plan_data_path = \"/content/plan_data.csv\""
      ]
    },
    {
      "cell_type": "code",
      "source": [
        "# Read the CSV files into DataFrames\n",
        "charges_data = pd.read_csv(charges_data_path)\n",
        "personal_data = pd.read_csv(personal_data_path)\n",
        "plan_data = pd.read_csv(plan_data_path)\n",
        "\n",
        "# Display the first few rows of each DataFrame to understand their structure\n",
        "charges_data.head(), personal_data.head(), plan_data.head()\n"
      ],
      "metadata": {
        "colab": {
          "base_uri": "https://localhost:8080/"
        },
        "id": "hTc7U5X-eqSx",
        "outputId": "3189add2-58d9-412e-8bbd-afdba199997b"
      },
      "execution_count": null,
      "outputs": [
        {
          "output_type": "execute_result",
          "data": {
            "text/plain": [
              "(   customerID  tenure        contract paperlessBilling  \\\n",
              " 0  7590-VHVEG       1  Month-to-month              Yes   \n",
              " 1  5575-GNVDE      34        One year               No   \n",
              " 2  3668-QPYBK       2  Month-to-month              Yes   \n",
              " 3  7795-CFOCW      45        One year               No   \n",
              " 4  9237-HQITU       2  Month-to-month              Yes   \n",
              " \n",
              "                paymentMethod  monthlyCharges  totalCharges churn  \n",
              " 0           Electronic check           29.85         29.85    No  \n",
              " 1               Mailed check           56.95       1889.50    No  \n",
              " 2               Mailed check           53.85        108.15   Yes  \n",
              " 3  Bank transfer (automatic)           42.30       1840.75    No  \n",
              " 4           Electronic check           70.70        151.65   Yes  ,\n",
              "    customerID  gender partner dependents  age\n",
              " 0  5575-GNVDE    Male      No         No   41\n",
              " 1  3668-QPYBK    Male      No         No   58\n",
              " 2  7795-CFOCW    Male      No         No   61\n",
              " 3  9237-HQITU  Female      No         No   66\n",
              " 4  9305-CDSKC  Female      No         No   87,\n",
              "    customerID phoneService     multipleLines internetService onlineSecurity  \\\n",
              " 0  5575-GNVDE          Yes                No             DSL            Yes   \n",
              " 1  7795-CFOCW           No  No phone service             DSL            Yes   \n",
              " 2  9237-HQITU          Yes                No     Fiber optic             No   \n",
              " 3  1452-KIOVK          Yes               Yes     Fiber optic             No   \n",
              " 4  6713-OKOMC           No  No phone service             DSL            Yes   \n",
              " \n",
              "   onlineBackup deviceProtection techSupport streamingTV streamingMovies  \n",
              " 0           No              Yes          No          No              No  \n",
              " 1           No              Yes         Yes          No              No  \n",
              " 2           No               No          No          No              No  \n",
              " 3          Yes               No          No         Yes              No  \n",
              " 4           No               No          No          No              No  )"
            ]
          },
          "metadata": {},
          "execution_count": 8
        }
      ]
    },
    {
      "cell_type": "code",
      "source": [
        "# Inspect data\n",
        "print(charges_data['monthlyCharges'].describe())\n",
        "print(charges_data['monthlyCharges'].dropna().head(10))"
      ],
      "metadata": {
        "colab": {
          "base_uri": "https://localhost:8080/"
        },
        "id": "-lFzVcE3kKLX",
        "outputId": "b88e3420-2e67-4cda-b65b-14f8269dff7b"
      },
      "execution_count": null,
      "outputs": [
        {
          "output_type": "stream",
          "name": "stdout",
          "text": [
            "count    6577.000000\n",
            "mean       64.654637\n",
            "std        30.101974\n",
            "min        18.250000\n",
            "25%        35.250000\n",
            "50%        70.300000\n",
            "75%        89.850000\n",
            "max       118.750000\n",
            "Name: monthlyCharges, dtype: float64\n",
            "0     29.85\n",
            "1     56.95\n",
            "2     53.85\n",
            "3     42.30\n",
            "4     70.70\n",
            "5     99.65\n",
            "6     89.10\n",
            "7     29.75\n",
            "8    104.80\n",
            "9     56.15\n",
            "Name: monthlyCharges, dtype: float64\n"
          ]
        }
      ]
    },
    {
      "cell_type": "code",
      "source": [
        "\n",
        "def explanatory_analysis(charges_data_path, personal_data_path, plan_data_path):\n",
        "    # write you solution here\n",
        "    #loading the data set\n",
        "    charges_data = pd.read_csv(charges_data_path)\n",
        "    personal_data = pd.read_csv(personal_data_path)\n",
        "    plan_data = pd.read_csv(plan_data_path)\n",
        "\n",
        "    # Step 2: Handle missing values in 'monthlyCharges' and 'totalCharges'\n",
        "    # Calculate the trimmed mean for monthlyCharges\n",
        "    trimmed_mean_monthly_charges = round(trim_mean(charges_data['monthlyCharges'].dropna(), proportiontocut=0.1))\n",
        "\n",
        "    # Fill missing values in 'monthlyCharges' with the trimmed mean\n",
        "    charges_data['monthlyCharges'].fillna(trimmed_mean_monthly_charges, inplace=True)\n",
        "\n",
        "    # Fill missing values in 'totalCharges' with monthlyCharges * tenure\n",
        "    charges_data['totalCharges'] = charges_data.apply(\n",
        "        lambda row: row['monthlyCharges'] * row['tenure'] if pd.isnull(row['totalCharges']) else row['totalCharges'],\n",
        "        axis=1\n",
        "    )\n",
        "\n",
        "    # Step 3: Create tenureBinned column by discretizing tenure\n",
        "    bins = [0, 24, 48, 60, np.inf]\n",
        "    labels = ['group1', 'group2', 'group3', 'group4']\n",
        "    charges_data['tenureBinned'] = pd.cut(charges_data['tenure'], bins=bins, labels=labels, right=True)\n",
        "\n",
        "    # Step 4: Calculate churn rate (percentage of customers who churned)\n",
        "    churn_rate = round((charges_data['churn'] == 'Yes').mean() * 100)\n",
        "\n",
        "    # Step 5: Join the datasets\n",
        "    data_merged = pd.merge(charges_data, personal_data, on='customerID', how='inner')\n",
        "    data_merged = pd.merge(data_merged, plan_data, on='customerID', how='left')\n",
        "\n",
        "    # Step 6: Calculate percentage of customers older than 60\n",
        "    pct_age_above_60 = round((data_merged['age'] > 60).mean() * 100)\n",
        "\n",
        "    # Step 7: Calculate unique value counts for 'internetService' column\n",
        "    internet_service_counts = data_merged['internetService'].value_counts().to_dict()\n",
        "\n",
        "    # Return the requested outputs\n",
        "    return {\n",
        "        'monthly_charges_mean': trimmed_mean_monthly_charges,\n",
        "        'charges_updated': charges_data,\n",
        "        'churn%': churn_rate,\n",
        "        'merged_dat': data_merged,\n",
        "        '%_above_60': pct_age_above_60,\n",
        "        'internet_service_counts': internet_service_counts\n",
        "    }\n",
        "\n",
        "    return results"
      ],
      "metadata": {
        "id": "6qWyCHWAkCCp"
      },
      "execution_count": null,
      "outputs": []
    },
    {
      "cell_type": "code",
      "source": [
        "import pandas as pd\n",
        "from scipy import stats\n",
        "from scipy.stats import trim_mean\n",
        "import numpy as np\n",
        "charges_data_path = \"./data/charges_data.csv\"\n",
        "personal_data_path = \"./data/personal_data.csv\"\n",
        "plan_data_path = \"./data/plan_data.csv\"\n",
        "\n",
        "# Read the CSV files into DataFrames\n",
        "charges_data = pd.read_csv(charges_data_path)\n",
        "personal_data = pd.read_csv(personal_data_path)\n",
        "plan_data = pd.read_csv(plan_data_path)\n",
        "\n",
        "\n",
        "charges_data.head(), personal_data.head(), plan_data.head()\n",
        "\n",
        "def explanatory_analysis(charges_data_path, personal_data_path, plan_data_path):\n",
        "\n",
        "    charges_data = pd.read_csv(charges_data_path)\n",
        "    personal_data = pd.read_csv(personal_data_path)\n",
        "    plan_data = pd.read_csv(plan_data_path)\n",
        "\n",
        "   #Handling missing values in 'monthlyCharges' and 'totalCharges'\n",
        "\n",
        "    # Drop NaN values\n",
        "    non_missing_mcharges = charges_data['monthlyCharges'].dropna()\n",
        "\n",
        "    # Calculating trimmed mean\n",
        "    trimmed_mean_monthly_charges = round(trim_mean(non_missing_mcharges, proportiontocut=0.1))\n",
        "    trimmed_mean_monthly_charges_rounded = round(trimmed_mean_monthly_charges)\n",
        "\n",
        "    # Debugging\n",
        "    print(f\"Calculated trimmed mean for monthlyCharges: {trimmed_mean_monthly_charges}\")\n",
        "\n",
        "    # Filling missing values in 'monthlyCharges' with the trimmed mean\n",
        "    charges_data['monthlyCharges'].fillna(trimmed_mean_monthly_charges, inplace=True)\n",
        "\n",
        "    # Filling  missing values in 'totalCharges' with monthlyCharges * tenure\n",
        "    charges_data['totalCharges'] = charges_data.apply(\n",
        "        lambda row: row['monthlyCharges'] * row['tenure'] if pd.isnull(row['totalCharges']) else row['totalCharges'],\n",
        "        axis=1\n",
        "    )\n",
        "\n",
        "    #  Creating 'tenureBinned' column by discretizing tenure\n",
        "    bins = [0, 24, 48, 60, np.inf]\n",
        "    labels = ['group1', 'group2', 'group3', 'group4']\n",
        "    charges_data['tenureBinned'] = pd.cut(charges_data['tenure'], bins=bins, labels=labels, right=True)\n",
        "\n",
        "    # percentage of customers who churned\n",
        "    churn_rate = round((charges_data['churn'] == 'Yes').mean() * 100)\n",
        "\n",
        "    #  Joining the datasets\n",
        "    data_merged = pd.merge(charges_data, personal_data, on='customerID', how='inner')\n",
        "    data_merged = pd.merge(data_merged, plan_data, on='customerID', how='left')\n",
        "\n",
        "    #  percentage of customers older than 60\n",
        "    pct_age_above_60 = round((data_merged['age'] > 60).mean() * 100)\n",
        "\n",
        "    # unique value counts for 'internetService' column\n",
        "    internet_service_counts = data_merged['internetService'].value_counts().to_dict()\n",
        "\n",
        "    # Return the requested outputs\n",
        "    return {\n",
        "        'monthly_charges_mean': trimmed_mean_monthly_charges,\n",
        "        'charges_data_updated': charges_data,\n",
        "        'churn_pct': churn_rate,\n",
        "        'data_merged': data_merged,\n",
        "        'pct_age_above_60': pct_age_above_60,\n",
        "        'internet_service_counts': internet_service_counts\n",
        "    }\n",
        "\n",
        "    return results"
      ],
      "metadata": {
        "id": "k_b1RLwpoCBa"
      },
      "execution_count": null,
      "outputs": []
    }
  ]
}